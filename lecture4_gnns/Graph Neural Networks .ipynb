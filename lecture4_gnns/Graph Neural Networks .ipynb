{
  "cells": [
    {
      "cell_type": "markdown",
      "source": [
        "## Graph Neural Networks with Pytorch Geometric\n",
        "\n",
        "Author: [Savannah Thais](https://github.com/savvy379)\n",
        "\n",
        "First portion (Cora dataset) adapted from the [Pytorch Geometric Tutorial](https://pytorch-geometric.readthedocs.io/en/latest/notes/colabs.html)"
      ],
      "metadata": {
        "id": "6mQmriNhIKu9"
      },
      "id": "6mQmriNhIKu9"
    },
    {
      "cell_type": "markdown",
      "source": [
        "Introduction\n",
        "This notebook teaches the reader how to build Graph Neural Networks (GNNs) with Pytorch Geometric (PyG). The first portion walks through a simple GNN architecture applied to the Cora Dataset; it is a modified version of the PyG [Tutorial](https://pytorch-geometric.readthedocs.io/en/latest/notes/colabs.html) on node classifying GNNs. The second portion introduces a GNN-based charged particle tracking pipeline based on [\"Charged particle tracking via edge-classifying interaction networks\"](https://arxiv.org/abs/2103.16701).\n",
        "\n",
        "A graph $G$ is a mathematical object consisting of a set of nodes (vertices) $N$ and edges $E$, $G=(N,E)$. Graphs can easily represent a wide range of structured data including atoms in molecules, users in a social network, cities and roads in a transportation system, players in team sports, objects interacting in a dynamical physical system, detector events , and more. The nodes and edges of the graph can have associated features as defined by the developer; these can include geometric information (ie particle hit locations in a detector) and non-geometric information (ie particle momenta). Graphs can be directed or undirected. A major advantage of GNNs is that they can handle input data of varying sizes: each graph processed by the network can have a different number of nodes and edges, making them well suited for a range of HEP applications as shown below for (a) particle tracking, (b) calorimeter clustering, (c) event classification, and (d) jet tagging (image from [Graph Neural Networks in Particle Physics](https://iopscience.iop.org/article/10.1088/2632-2153)).\n",
        "\n",
        "![](https://drive.google.com/uc?id=1dGIKhsfeI7-Ik3pXL8t5Dsb6UyDohMiM)"
      ],
      "metadata": {
        "id": "lpjx6oKzIqki"
      },
      "id": "lpjx6oKzIqki"
    },
    {
      "cell_type": "markdown",
      "source": [
        "In general, GNNs work by leveraging local information across the graph structure to intelligently re-embed the edges and nodes. A commonly used class of GNNs (and the focus of this tutorial) is the Graph Convolutional Network (GCN). GCNs use the same convolution operations as in a normal CNN, but apply the convolutions to node neighborhoods rather than a fixed data tensor (like an image matrix). These are considered a type of \"Message Passing Network\" when are 'message' is constructed by combining and transforming information from neighboring nodes and that message is 'passed' to a target node and used to update its features. In this way the entire graph can be transformed such that each node is updated to include additional useful information. The convolved graph is typically then processed by an additional linear layer that uses node and or edge features to do classification or regression on individual graph elements, graph substructures, or the graph as a whole. (Note: the same message passing structure can be applied to edges instead of nodes to update edge features as well). \n",
        "\n",
        "![](https://drive.google.com/uc?id=1f5MJO9Kw1tWjJMBJBsZ-M4tMFz_dydr2)"
      ],
      "metadata": {
        "id": "3LYyMxnSIpV1"
      },
      "id": "3LYyMxnSIpV1"
    },
    {
      "cell_type": "markdown",
      "source": [
        "In mathematical terms, a single graph convolution layer can be described as: \n",
        "\n",
        "![](https://drive.google.com/uc?id=1hj82TSiKTwKTX9IFfpYRG7qygtSAAw6A)\n",
        "\n",
        "Here, $h_v^0$ is the initial embedding of node $v$ (ie the original node features). To update the embedding of node $v$, $h_v^k$, the 'message' is constructed by applying a function $f$ to a the average over the current embedding of all the neighboring nodes (nodes connected to $v$ by a graph edge): $N(v)$) $\\sum_{u \\in N(v)}\\frac{h_u^{k-1}}{deg(v)}$ and, optionally, the current embedding of the target node: $h_v^{k-1}$ then passed through a non-linear activation function and used to update the target node. In practice the functions $f$ is approximated by a matrix (convolution) $W_k$ with the added non-linearity of the activation function.   "
      ],
      "metadata": {
        "id": "KIiobNAKIpB8"
      },
      "id": "KIiobNAKIpB8"
    },
    {
      "cell_type": "code",
      "source": [
        "# Install required packages.\n",
        "import os\n",
        "import torch\n",
        "os.environ['TORCH'] = torch.__version__\n",
        "print(torch.__version__)\n",
        "\n",
        "!pip install -q torch-scatter -f https://data.pyg.org/whl/torch-${TORCH}.html\n",
        "!pip install -q torch-sparse -f https://data.pyg.org/whl/torch-${TORCH}.html\n",
        "!pip install -q git+https://github.com/pyg-team/pytorch_geometric.git\n",
        "\n",
        "# Helper function for visualization.\n",
        "%matplotlib inline\n",
        "import matplotlib.pyplot as plt\n",
        "from sklearn.manifold import TSNE\n",
        "\n",
        "def visualize(h, color):\n",
        "    z = TSNE(n_components=2).fit_transform(h.detach().cpu().numpy())\n",
        "\n",
        "    plt.figure(figsize=(10,10))\n",
        "    plt.xticks([])\n",
        "    plt.yticks([])\n",
        "\n",
        "    plt.scatter(z[:, 0], z[:, 1], s=70, c=color, cmap=\"Set2\")\n",
        "    plt.show()"
      ],
      "metadata": {
        "colab": {
          "base_uri": "https://localhost:8080/"
        },
        "id": "6KAqG4MoSP0S",
        "outputId": "49e408f4-e6a3-4279-c6a7-84ae8a7b18f6"
      },
      "id": "6KAqG4MoSP0S",
      "execution_count": 1,
      "outputs": [
        {
          "output_type": "stream",
          "name": "stdout",
          "text": [
            "1.12.0+cu113\n",
            "\u001b[K     |████████████████████████████████| 7.9 MB 3.0 MB/s \n",
            "\u001b[K     |████████████████████████████████| 3.5 MB 2.0 MB/s \n",
            "\u001b[?25h  Building wheel for torch-geometric (setup.py) ... \u001b[?25l\u001b[?25hdone\n"
          ]
        }
      ]
    },
    {
      "cell_type": "code",
      "source": [
        ""
      ],
      "metadata": {
        "id": "9BZnp3rySgSf"
      },
      "id": "9BZnp3rySgSf",
      "execution_count": null,
      "outputs": []
    },
    {
      "cell_type": "code",
      "source": [
        ""
      ],
      "metadata": {
        "id": "086KJIsTSf66"
      },
      "id": "086KJIsTSf66",
      "execution_count": null,
      "outputs": []
    },
    {
      "cell_type": "code",
      "source": [
        ""
      ],
      "metadata": {
        "id": "7mjfoNRvSfkX"
      },
      "id": "7mjfoNRvSfkX",
      "execution_count": null,
      "outputs": []
    },
    {
      "cell_type": "code",
      "source": [
        ""
      ],
      "metadata": {
        "id": "rHtXByaySfDq"
      },
      "id": "rHtXByaySfDq",
      "execution_count": null,
      "outputs": []
    },
    {
      "cell_type": "code",
      "source": [
        ""
      ],
      "metadata": {
        "id": "w4O7p6beSerb"
      },
      "id": "w4O7p6beSerb",
      "execution_count": null,
      "outputs": []
    },
    {
      "cell_type": "code",
      "source": [
        ""
      ],
      "metadata": {
        "id": "X-Hvtra2SUxA"
      },
      "id": "X-Hvtra2SUxA",
      "execution_count": null,
      "outputs": []
    }
  ],
  "metadata": {
    "colab": {
      "name": "Graph Neural Networks .ipynb",
      "provenance": []
    },
    "language_info": {
      "name": "python"
    },
    "kernelspec": {
      "name": "python3",
      "display_name": "Python 3"
    },
    "gpuClass": "standard"
  },
  "nbformat": 4,
  "nbformat_minor": 5
}